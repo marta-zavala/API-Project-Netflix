{
 "cells": [
  {
   "cell_type": "code",
   "execution_count": 1,
   "metadata": {},
   "outputs": [
    {
     "data": {
      "text/plain": [
       "True"
      ]
     },
     "execution_count": 1,
     "metadata": {},
     "output_type": "execute_result"
    }
   ],
   "source": [
    "import pandas as pd\n",
    "import numpy as np\n",
    "import requests\n",
    "import os\n",
    "from dotenv import load_dotenv\n",
    "load_dotenv()"
   ]
  },
  {
   "cell_type": "code",
   "execution_count": 2,
   "metadata": {},
   "outputs": [],
   "source": [
    "df=pd.read_csv('../Input/netflix_titles.csv')"
   ]
  },
  {
   "cell_type": "code",
   "execution_count": 3,
   "metadata": {},
   "outputs": [],
   "source": [
    "netflix=df[['type','title','country','release_year','duration','listed_in','description']]\n",
    "netflix=netflix[netflix.type=='Movie']\n",
    "netflix=netflix[netflix.country=='United States']\n",
    "netflix=netflix[netflix.release_year>1995]\n",
    "netflix=netflix.head(1000)"
   ]
  },
  {
   "cell_type": "code",
   "execution_count": 4,
   "metadata": {},
   "outputs": [],
   "source": [
    "apiKey = os.getenv(\"API_IH\")\n",
    "rapidapiKey = os.getenv(\"RAPIDAPI\")"
   ]
  },
  {
   "cell_type": "code",
   "execution_count": 5,
   "metadata": {},
   "outputs": [],
   "source": [
    "def getID(titulo, key):\n",
    "    try:    \n",
    "        url = \"https://movie-database-imdb-alternative.p.rapidapi.com/\"\n",
    "        querystring = {\"page\":\"1\",\"r\":\"json\",\"s\":titulo}\n",
    "        headers = {'x-rapidapi-host': \"movie-database-imdb-alternative.p.rapidapi.com\",'x-rapidapi-key': key}\n",
    "        response = requests.request(\"GET\", url, headers=headers, params=querystring)\n",
    "        response=(response.text)\n",
    "        response=((response.replace(' ','').replace('\"imdbID\":',\" \").replace(',\"Type\":',' ').split())[1]).replace('\\\"',\"\")\n",
    "    except:pass\n",
    "    return(response)"
   ]
  },
  {
   "cell_type": "code",
   "execution_count": 6,
   "metadata": {},
   "outputs": [],
   "source": [
    "netflix['id']=[getID(x,rapidapiKey) for x in netflix['title']]"
   ]
  },
  {
   "cell_type": "code",
   "execution_count": 7,
   "metadata": {},
   "outputs": [],
   "source": [
    "netflix = netflix[~(netflix.id == '{\"Response\":\"False\",\"Error\":\"Movie not found!\"}')]\n",
    "netflix = netflix[~(netflix.id == '{\"Response\":\"False\",\"Error\":\"Too many results.\"}')]"
   ]
  },
  {
   "cell_type": "code",
   "execution_count": 8,
   "metadata": {},
   "outputs": [],
   "source": [
    "net=netflix"
   ]
  },
  {
   "cell_type": "code",
   "execution_count": 9,
   "metadata": {},
   "outputs": [],
   "source": [
    "def getFromTMDB(id_tmdb,i,key):\n",
    "    try:\n",
    "        res = (requests.get(f\"https://api.themoviedb.org/3/movie/{id_tmdb}?api_key={key}&language=en-US\")).json()[f'{i}']\n",
    "    except:\n",
    "        res = 'NaN'\n",
    "    return res"
   ]
  },
  {
   "cell_type": "code",
   "execution_count": 10,
   "metadata": {},
   "outputs": [],
   "source": [
    "for i in ['popularity','vote_count','vote_average']:\n",
    "    net[f'{i}'] = [getFromTMDB(x,i,apiKey) for x in net['id']]"
   ]
  },
  {
   "cell_type": "code",
   "execution_count": 11,
   "metadata": {},
   "outputs": [],
   "source": [
    "net = net[~(netflix.listed_in == 'Nan')]"
   ]
  },
  {
   "cell_type": "code",
   "execution_count": 12,
   "metadata": {},
   "outputs": [
    {
     "data": {
      "text/html": [
       "<div>\n",
       "<style scoped>\n",
       "    .dataframe tbody tr th:only-of-type {\n",
       "        vertical-align: middle;\n",
       "    }\n",
       "\n",
       "    .dataframe tbody tr th {\n",
       "        vertical-align: top;\n",
       "    }\n",
       "\n",
       "    .dataframe thead th {\n",
       "        text-align: right;\n",
       "    }\n",
       "</style>\n",
       "<table border=\"1\" class=\"dataframe\">\n",
       "  <thead>\n",
       "    <tr style=\"text-align: right;\">\n",
       "      <th></th>\n",
       "      <th>type</th>\n",
       "      <th>title</th>\n",
       "      <th>country</th>\n",
       "      <th>release_year</th>\n",
       "      <th>duration</th>\n",
       "      <th>listed_in</th>\n",
       "      <th>description</th>\n",
       "      <th>id</th>\n",
       "      <th>popularity</th>\n",
       "      <th>vote_count</th>\n",
       "      <th>vote_average</th>\n",
       "    </tr>\n",
       "  </thead>\n",
       "  <tbody>\n",
       "    <tr>\n",
       "      <th>4</th>\n",
       "      <td>Movie</td>\n",
       "      <td>#realityhigh</td>\n",
       "      <td>United States</td>\n",
       "      <td>2017</td>\n",
       "      <td>99 min</td>\n",
       "      <td>Comedies</td>\n",
       "      <td>When nerdy high schooler Dani finally attracts...</td>\n",
       "      <td>tt6119504</td>\n",
       "      <td>20.758</td>\n",
       "      <td>870</td>\n",
       "      <td>6.4</td>\n",
       "    </tr>\n",
       "    <tr>\n",
       "      <th>20</th>\n",
       "      <td>Movie</td>\n",
       "      <td>Manhattan Romance</td>\n",
       "      <td>United States</td>\n",
       "      <td>2014</td>\n",
       "      <td>98 min</td>\n",
       "      <td>Comedies, Independent Movies, Romantic Movies</td>\n",
       "      <td>A filmmaker working on a documentary about lov...</td>\n",
       "      <td>tt2608324</td>\n",
       "      <td>7.044</td>\n",
       "      <td>24</td>\n",
       "      <td>4.8</td>\n",
       "    </tr>\n",
       "    <tr>\n",
       "      <th>23</th>\n",
       "      <td>Movie</td>\n",
       "      <td>Stonehearst Asylum</td>\n",
       "      <td>United States</td>\n",
       "      <td>2014</td>\n",
       "      <td>113 min</td>\n",
       "      <td>Horror Movies, Thrillers</td>\n",
       "      <td>In 1899, a young doctor arrives at an asylum f...</td>\n",
       "      <td>tt1772264</td>\n",
       "      <td>26.797</td>\n",
       "      <td>880</td>\n",
       "      <td>6.7</td>\n",
       "    </tr>\n",
       "    <tr>\n",
       "      <th>24</th>\n",
       "      <td>Movie</td>\n",
       "      <td>The Runner</td>\n",
       "      <td>United States</td>\n",
       "      <td>2015</td>\n",
       "      <td>90 min</td>\n",
       "      <td>Dramas, Independent Movies</td>\n",
       "      <td>A New Orleans politician finds his idealistic ...</td>\n",
       "      <td>tt1790864</td>\n",
       "      <td>87.885</td>\n",
       "      <td>12504</td>\n",
       "      <td>7.1</td>\n",
       "    </tr>\n",
       "    <tr>\n",
       "      <th>25</th>\n",
       "      <td>Movie</td>\n",
       "      <td>6 Years</td>\n",
       "      <td>United States</td>\n",
       "      <td>2015</td>\n",
       "      <td>80 min</td>\n",
       "      <td>Dramas, Independent Movies, Romantic Movies</td>\n",
       "      <td>As a volatile young couple who have been toget...</td>\n",
       "      <td>tt3799372</td>\n",
       "      <td>15.477</td>\n",
       "      <td>624</td>\n",
       "      <td>5.4</td>\n",
       "    </tr>\n",
       "  </tbody>\n",
       "</table>\n",
       "</div>"
      ],
      "text/plain": [
       "     type               title        country  release_year duration  \\\n",
       "4   Movie        #realityhigh  United States          2017   99 min   \n",
       "20  Movie   Manhattan Romance  United States          2014   98 min   \n",
       "23  Movie  Stonehearst Asylum  United States          2014  113 min   \n",
       "24  Movie          The Runner  United States          2015   90 min   \n",
       "25  Movie             6 Years  United States          2015   80 min   \n",
       "\n",
       "                                        listed_in  \\\n",
       "4                                        Comedies   \n",
       "20  Comedies, Independent Movies, Romantic Movies   \n",
       "23                       Horror Movies, Thrillers   \n",
       "24                     Dramas, Independent Movies   \n",
       "25    Dramas, Independent Movies, Romantic Movies   \n",
       "\n",
       "                                          description         id popularity  \\\n",
       "4   When nerdy high schooler Dani finally attracts...  tt6119504     20.758   \n",
       "20  A filmmaker working on a documentary about lov...  tt2608324      7.044   \n",
       "23  In 1899, a young doctor arrives at an asylum f...  tt1772264     26.797   \n",
       "24  A New Orleans politician finds his idealistic ...  tt1790864     87.885   \n",
       "25  As a volatile young couple who have been toget...  tt3799372     15.477   \n",
       "\n",
       "   vote_count vote_average  \n",
       "4         870          6.4  \n",
       "20         24          4.8  \n",
       "23        880          6.7  \n",
       "24      12504          7.1  \n",
       "25        624          5.4  "
      ]
     },
     "execution_count": 12,
     "metadata": {},
     "output_type": "execute_result"
    }
   ],
   "source": [
    "net.head()"
   ]
  },
  {
   "cell_type": "code",
   "execution_count": 13,
   "metadata": {},
   "outputs": [],
   "source": [
    "net.to_csv(\"../Output/NetflixFull.csv\",index=False)"
   ]
  },
  {
   "cell_type": "code",
   "execution_count": null,
   "metadata": {},
   "outputs": [],
   "source": []
  }
 ],
 "metadata": {
  "kernelspec": {
   "display_name": "Python 3",
   "language": "python",
   "name": "python3"
  },
  "language_info": {
   "codemirror_mode": {
    "name": "ipython",
    "version": 3
   },
   "file_extension": ".py",
   "mimetype": "text/x-python",
   "name": "python",
   "nbconvert_exporter": "python",
   "pygments_lexer": "ipython3",
   "version": "3.7.8"
  }
 },
 "nbformat": 4,
 "nbformat_minor": 4
}
