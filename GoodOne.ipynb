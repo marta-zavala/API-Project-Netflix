{
 "cells": [
  {
   "cell_type": "code",
   "execution_count": 1,
   "metadata": {},
   "outputs": [
    {
     "data": {
      "text/plain": [
       "True"
      ]
     },
     "execution_count": 1,
     "metadata": {},
     "output_type": "execute_result"
    }
   ],
   "source": [
    "import pandas as pd\n",
    "import numpy as np\n",
    "import requests\n",
    "import os\n",
    "from dotenv import load_dotenv\n",
    "load_dotenv()"
   ]
  },
  {
   "cell_type": "code",
   "execution_count": 2,
   "metadata": {},
   "outputs": [],
   "source": [
    "df=pd.read_csv('../Input/netflix_titles.csv')"
   ]
  },
  {
   "cell_type": "code",
   "execution_count": 3,
   "metadata": {},
   "outputs": [],
   "source": [
    "netflix=df[['type','title','country','release_year','duration','listed_in','description']]\n",
    "netflix=netflix[netflix.type=='Movie']\n",
    "netflix=netflix[netflix.country=='United States']\n",
    "netflix=netflix[netflix.release_year>1995]\n",
    "netflix=netflix.head(1000)"
   ]
  },
  {
   "cell_type": "code",
   "execution_count": 4,
   "metadata": {},
   "outputs": [],
   "source": [
    "apiKey = os.getenv(\"API_IH\")\n",
    "rapidapiKey = os.getenv(\"RAPIDAPI\")"
   ]
  },
  {
   "cell_type": "code",
   "execution_count": 5,
   "metadata": {},
   "outputs": [],
   "source": [
    "def getID(titulo, key):\n",
    "    try:    \n",
    "        url = \"https://movie-database-imdb-alternative.p.rapidapi.com/\"\n",
    "        querystring = {\"page\":\"1\",\"r\":\"json\",\"s\":titulo}\n",
    "        headers = {'x-rapidapi-host': \"movie-database-imdb-alternative.p.rapidapi.com\",'x-rapidapi-key': key}\n",
    "        response = requests.request(\"GET\", url, headers=headers, params=querystring)\n",
    "        response=(response.text)\n",
    "        response=((response.replace(' ','').replace('\"imdbID\":',\" \").replace(',\"Type\":',' ').split())[1]).replace('\\\"',\"\")\n",
    "    except:pass\n",
    "    return(response)"
   ]
  },
  {
   "cell_type": "code",
   "execution_count": 6,
   "metadata": {},
   "outputs": [],
   "source": [
    "netflix['id']=[getID(x,rapidapiKey) for x in netflix['title']]"
   ]
  },
  {
   "cell_type": "code",
   "execution_count": 7,
   "metadata": {},
   "outputs": [],
   "source": [
    "netflix = netflix[~(netflix.id == '{\"Response\":\"False\",\"Error\":\"Movie not found!\"}')]\n",
    "netflix = netflix[~(netflix.id == '{\"Response\":\"False\",\"Error\":\"Too many results.\"}')]"
   ]
  },
  {
   "cell_type": "code",
   "execution_count": 8,
   "metadata": {},
   "outputs": [],
   "source": [
    "net=netflix"
   ]
  },
  {
   "cell_type": "code",
   "execution_count": 9,
   "metadata": {},
   "outputs": [],
   "source": [
    "def getFromTMDB(id_tmdb,i,key):\n",
    "    try:\n",
    "        res = (requests.get(f\"https://api.themoviedb.org/3/movie/{id_tmdb}?api_key={key}&language=en-US\")).json()[f'{i}']\n",
    "    except:\n",
    "        res = 'NaN'\n",
    "    return res"
   ]
  },
  {
   "cell_type": "code",
   "execution_count": 10,
   "metadata": {},
   "outputs": [],
   "source": [
    "for i in ['popularity','vote_count','vote_average']:\n",
    "    net[f'{i}'] = [getFromTMDB(x,i,apiKey) for x in net['id']]"
   ]
  },
  {
   "cell_type": "code",
   "execution_count": 11,
   "metadata": {},
   "outputs": [],
   "source": [
    "net = net[~(netflix.listed_in == 'Nan')]"
   ]
  },
  {
   "cell_type": "code",
   "execution_count": 22,
   "metadata": {},
   "outputs": [],
   "source": [
    "net=net[['title','country','release_year','duration','listed_in','description','popularity','vote_count','vote_average']]"
   ]
  },
  {
   "cell_type": "code",
   "execution_count": 33,
   "metadata": {},
   "outputs": [
    {
     "data": {
      "text/html": [
       "<div>\n",
       "<style scoped>\n",
       "    .dataframe tbody tr th:only-of-type {\n",
       "        vertical-align: middle;\n",
       "    }\n",
       "\n",
       "    .dataframe tbody tr th {\n",
       "        vertical-align: top;\n",
       "    }\n",
       "\n",
       "    .dataframe thead th {\n",
       "        text-align: right;\n",
       "    }\n",
       "</style>\n",
       "<table border=\"1\" class=\"dataframe\">\n",
       "  <thead>\n",
       "    <tr style=\"text-align: right;\">\n",
       "      <th></th>\n",
       "      <th>Title</th>\n",
       "      <th>Country</th>\n",
       "      <th>Year</th>\n",
       "      <th>Duration</th>\n",
       "      <th>Genre</th>\n",
       "      <th>Description</th>\n",
       "      <th>Popularity</th>\n",
       "      <th>Vote Count</th>\n",
       "      <th>Rating</th>\n",
       "    </tr>\n",
       "  </thead>\n",
       "  <tbody>\n",
       "    <tr>\n",
       "      <th>4</th>\n",
       "      <td>#realityhigh</td>\n",
       "      <td>United States</td>\n",
       "      <td>2017</td>\n",
       "      <td>99 min</td>\n",
       "      <td>Comedies</td>\n",
       "      <td>When nerdy high schooler Dani finally attracts...</td>\n",
       "      <td>20.758</td>\n",
       "      <td>870</td>\n",
       "      <td>6.4</td>\n",
       "    </tr>\n",
       "    <tr>\n",
       "      <th>20</th>\n",
       "      <td>Manhattan Romance</td>\n",
       "      <td>United States</td>\n",
       "      <td>2014</td>\n",
       "      <td>98 min</td>\n",
       "      <td>Comedies, Independent Movies, Romantic Movies</td>\n",
       "      <td>A filmmaker working on a documentary about lov...</td>\n",
       "      <td>7.044</td>\n",
       "      <td>24</td>\n",
       "      <td>4.8</td>\n",
       "    </tr>\n",
       "    <tr>\n",
       "      <th>23</th>\n",
       "      <td>Stonehearst Asylum</td>\n",
       "      <td>United States</td>\n",
       "      <td>2014</td>\n",
       "      <td>113 min</td>\n",
       "      <td>Horror Movies, Thrillers</td>\n",
       "      <td>In 1899, a young doctor arrives at an asylum f...</td>\n",
       "      <td>26.797</td>\n",
       "      <td>880</td>\n",
       "      <td>6.7</td>\n",
       "    </tr>\n",
       "    <tr>\n",
       "      <th>24</th>\n",
       "      <td>The Runner</td>\n",
       "      <td>United States</td>\n",
       "      <td>2015</td>\n",
       "      <td>90 min</td>\n",
       "      <td>Dramas, Independent Movies</td>\n",
       "      <td>A New Orleans politician finds his idealistic ...</td>\n",
       "      <td>87.885</td>\n",
       "      <td>12504</td>\n",
       "      <td>7.1</td>\n",
       "    </tr>\n",
       "    <tr>\n",
       "      <th>25</th>\n",
       "      <td>6 Years</td>\n",
       "      <td>United States</td>\n",
       "      <td>2015</td>\n",
       "      <td>80 min</td>\n",
       "      <td>Dramas, Independent Movies, Romantic Movies</td>\n",
       "      <td>As a volatile young couple who have been toget...</td>\n",
       "      <td>15.477</td>\n",
       "      <td>624</td>\n",
       "      <td>5.4</td>\n",
       "    </tr>\n",
       "  </tbody>\n",
       "</table>\n",
       "</div>"
      ],
      "text/plain": [
       "                 Title        Country  Year Duration  \\\n",
       "4         #realityhigh  United States  2017   99 min   \n",
       "20   Manhattan Romance  United States  2014   98 min   \n",
       "23  Stonehearst Asylum  United States  2014  113 min   \n",
       "24          The Runner  United States  2015   90 min   \n",
       "25             6 Years  United States  2015   80 min   \n",
       "\n",
       "                                            Genre  \\\n",
       "4                                        Comedies   \n",
       "20  Comedies, Independent Movies, Romantic Movies   \n",
       "23                       Horror Movies, Thrillers   \n",
       "24                     Dramas, Independent Movies   \n",
       "25    Dramas, Independent Movies, Romantic Movies   \n",
       "\n",
       "                                          Description Popularity Vote Count  \\\n",
       "4   When nerdy high schooler Dani finally attracts...     20.758        870   \n",
       "20  A filmmaker working on a documentary about lov...      7.044         24   \n",
       "23  In 1899, a young doctor arrives at an asylum f...     26.797        880   \n",
       "24  A New Orleans politician finds his idealistic ...     87.885      12504   \n",
       "25  As a volatile young couple who have been toget...     15.477        624   \n",
       "\n",
       "   Rating  \n",
       "4     6.4  \n",
       "20    4.8  \n",
       "23    6.7  \n",
       "24    7.1  \n",
       "25    5.4  "
      ]
     },
     "execution_count": 33,
     "metadata": {},
     "output_type": "execute_result"
    }
   ],
   "source": [
    "net.head()"
   ]
  },
  {
   "cell_type": "code",
   "execution_count": 30,
   "metadata": {},
   "outputs": [
    {
     "name": "stderr",
     "output_type": "stream",
     "text": [
      "/usr/local/lib/python3.7/site-packages/pandas/core/frame.py:4298: SettingWithCopyWarning: \n",
      "A value is trying to be set on a copy of a slice from a DataFrame\n",
      "\n",
      "See the caveats in the documentation: https://pandas.pydata.org/pandas-docs/stable/user_guide/indexing.html#returning-a-view-versus-a-copy\n",
      "  errors=errors,\n"
     ]
    }
   ],
   "source": [
    "net.rename(columns={'title':'Title','country':'Country','release_year':'Year','duration':'Duration','listed_in':'Genre','description':'Description','popularity':'Popularity','vote_count':'Vote Count','vote_average':'Rating'},inplace=True)"
   ]
  },
  {
   "cell_type": "code",
   "execution_count": 32,
   "metadata": {},
   "outputs": [],
   "source": [
    "net.to_csv(\"../Output/NetflixFull.csv\",index=False)"
   ]
  },
  {
   "cell_type": "code",
   "execution_count": 34,
   "metadata": {},
   "outputs": [
    {
     "data": {
      "text/plain": [
       "929"
      ]
     },
     "execution_count": 34,
     "metadata": {},
     "output_type": "execute_result"
    }
   ],
   "source": [
    "net.shape[0]"
   ]
  },
  {
   "cell_type": "code",
   "execution_count": 63,
   "metadata": {},
   "outputs": [
    {
     "data": {
      "text/plain": [
       "list"
      ]
     },
     "execution_count": 63,
     "metadata": {},
     "output_type": "execute_result"
    }
   ],
   "source": [
    "dev=['']\n",
    "type(dev)"
   ]
  },
  {
   "cell_type": "code",
   "execution_count": 64,
   "metadata": {},
   "outputs": [
    {
     "name": "stdout",
     "output_type": "stream",
     "text": [
      "Title:  American History X\n",
      "Country:  United States\n",
      "Year:  1998\n",
      "Duration:  119 min\n",
      "Genre:  Dramas\n",
      "Description:  A neo-Nazi gets sent to prison for murder and ...\n",
      "Popularity:  27.382\n",
      "Rating:  8.4\n"
     ]
    }
   ],
   "source": [
    "for i in ['Title','Country','Year','Duration','Genre','Description','Popularity','Rating']:\n",
    "    x= net[i][net.Title=='American History X'].to_string(index=False)\n",
    "    x=f'{i}: {x}'\n",
    "    dev.append(x)\n",
    "for i in range(1,9):\n",
    "    print(dev[i])\n",
    "\n",
    "    \n"
   ]
  },
  {
   "cell_type": "code",
   "execution_count": null,
   "metadata": {},
   "outputs": [],
   "source": []
  }
 ],
 "metadata": {
  "kernelspec": {
   "display_name": "Python 3",
   "language": "python",
   "name": "python3"
  },
  "language_info": {
   "codemirror_mode": {
    "name": "ipython",
    "version": 3
   },
   "file_extension": ".py",
   "mimetype": "text/x-python",
   "name": "python",
   "nbconvert_exporter": "python",
   "pygments_lexer": "ipython3",
   "version": "3.7.8"
  }
 },
 "nbformat": 4,
 "nbformat_minor": 4
}
